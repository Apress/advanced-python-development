{
 "cells": [
  {
   "cell_type": "code",
   "execution_count": 1,
   "metadata": {
    "scrolled": false,
    "slideshow": {
     "slide_type": "slide"
    }
   },
   "outputs": [
    {
     "data": {
      "text/plain": [
       "sys.version_info(major=3, minor=8, micro=0, releaselevel='final', serial=0)"
      ]
     },
     "execution_count": 1,
     "metadata": {},
     "output_type": "execute_result"
    }
   ],
   "source": [
    "import sys\n",
    "sys.version_info"
   ]
  },
  {
   "cell_type": "code",
   "execution_count": 1,
   "metadata": {},
   "outputs": [
    {
     "data": {
      "text/plain": [
       "'LAPTOP-IOJMBDVL'"
      ]
     },
     "execution_count": 1,
     "metadata": {},
     "output_type": "execute_result"
    }
   ],
   "source": [
    "import socket\n",
    "hostname = socket.gethostname()\n",
    "hostname"
   ]
  },
  {
   "cell_type": "code",
   "execution_count": 2,
   "metadata": {},
   "outputs": [
    {
     "data": {
      "text/plain": [
       "[(<AddressFamily.AF_INET6: 23>,\n",
       "  0,\n",
       "  0,\n",
       "  '',\n",
       "  ('fe80::xxxx:xxxx:ae23:fa5', 0, 0, 10)),\n",
       " (<AddressFamily.AF_INET6: 23>,\n",
       "  0,\n",
       "  0,\n",
       "  '',\n",
       "  ('2001:xxxx:xxxx:xxxx:xxxx:xxxx:1321:a799', 0, 0, 0)),\n",
       " (<AddressFamily.AF_INET6: 23>,\n",
       "  0,\n",
       "  0,\n",
       "  '',\n",
       "  ('2001:xxxx:xxxx:xxxx:xxxx:xxxx:ae23:fa5', 0, 0, 0)),\n",
       " (<AddressFamily.AF_INET: 2>, 0, 0, '', ('192.168.1.246', 0))]"
      ]
     },
     "execution_count": 2,
     "metadata": {},
     "output_type": "execute_result"
    }
   ],
   "source": [
    "addresses = socket.getaddrinfo(hostname, None)\n",
    "addresses"
   ]
  },
  {
   "cell_type": "code",
   "execution_count": 3,
   "metadata": {},
   "outputs": [
    {
     "name": "stdout",
     "output_type": "stream",
     "text": [
      "AF_INET6 fe80::xxxx:xxxx:ae23:fa5\n",
      "AF_INET6 2001:xxxx:xxxx:xxxx:xxxx:xxxx:1321:a799\n",
      "AF_INET6 2001:xxxx:xxxx:xxxx:xxxx:xxxx:ae23:fa5\n",
      "AF_INET 192.168.1.246\n"
     ]
    }
   ],
   "source": [
    "for address in addresses:\n",
    "    print(address[0].name, address[4][0])"
   ]
  },
  {
   "cell_type": "code",
   "execution_count": null,
   "metadata": {},
   "outputs": [],
   "source": []
  }
 ],
 "metadata": {
  "kernelspec": {
   "display_name": "advancedpython",
   "language": "python",
   "name": "advancedpython"
  },
  "language_info": {
   "codemirror_mode": {
    "name": "ipython",
    "version": 3
   },
   "file_extension": ".py",
   "mimetype": "text/x-python",
   "name": "python",
   "nbconvert_exporter": "python",
   "pygments_lexer": "ipython3",
   "version": "3.8.0"
  }
 },
 "nbformat": 4,
 "nbformat_minor": 2
}
