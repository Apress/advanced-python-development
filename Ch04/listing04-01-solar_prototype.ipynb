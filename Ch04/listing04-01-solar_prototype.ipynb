{
 "cells": [
  {
   "cell_type": "code",
   "execution_count": 1,
   "metadata": {},
   "outputs": [],
   "source": [
    "import subprocess\n",
    "\n",
    "bt_addr = \"00:80:25:00:00:00\"\n",
    "output = subprocess.check_output(\n",
    "    [\"/home/pi/opensunny-master/opensunny\", \"-i\", bt_addr],\n",
    "    stderr=subprocess.STDOUT,\n",
    "    timeout=15,\n",
    ")"
   ]
  },
  {
   "cell_type": "code",
   "execution_count": 6,
   "metadata": {},
   "outputs": [
    {
     "data": {
      "text/plain": [
       "b'2020-04-04T12:34:45.914165:INFO:[Value] timestamp=1247525322 current_ac_l3=5.003A'"
      ]
     },
     "execution_count": 6,
     "metadata": {},
     "output_type": "execute_result"
    }
   ],
   "source": [
    "lines = [line for line in output.split(b\"\\n\") if line]\n",
    "lines[-1]"
   ]
  },
  {
   "cell_type": "code",
   "execution_count": 10,
   "metadata": {},
   "outputs": [
    {
     "name": "stdout",
     "output_type": "stream",
     "text": [
      "dict_keys([b'model', b'power_ac', b'yield_total', b'power_dc_1', b'power_dc_2', b'voltage_dc_1', b'voltage_dc_2', b'power_ac_max_l1', b'power_ac_max_l2', b'power_ac_max_l3', b'power_ac_l1', b'power_ac_l2', b'power_ac_l3', b'voltage_ac_l1', b'voltage_ac_l2', b'voltage_ac_l3', b'current_ac_l1', b'current_ac_l2', b'current_ac_l3'])\n",
      "b'15220.034kWh'\n"
     ]
    }
   ],
   "source": [
    "found = {}\n",
    "for line in lines:\n",
    "    start, value = line.rsplit(b\"=\", 1)\n",
    "    _, key = start.rsplit(b\" \", 1)\n",
    "    found[key] = value\n",
    "print(found.keys())\n",
    "print(found[b\"yield_total\"])"
   ]
  },
  {
   "cell_type": "code",
   "execution_count": 4,
   "metadata": {},
   "outputs": [
    {
     "name": "stdout",
     "output_type": "stream",
     "text": [
      "15220034.0\n"
     ]
    }
   ],
   "source": [
    "yield_total = float(found[b\"yield_total\"][:-3].replace(b\".\", b\"\"))\n",
    "print(yield_total)"
   ]
  }
 ],
 "metadata": {
  "kernelspec": {
   "display_name": "SSH pi@rpi4 loft-sensor",
   "language": "python",
   "name": "rik_ssh_pi_rpi4_loftsensor"
  },
  "language_info": {
   "codemirror_mode": {
    "name": "ipython",
    "version": 3
   },
   "file_extension": ".py",
   "mimetype": "text/x-python",
   "name": "python",
   "nbconvert_exporter": "python",
   "pygments_lexer": "ipython3",
   "version": "3.7.3"
  }
 },
 "nbformat": 4,
 "nbformat_minor": 2
}
